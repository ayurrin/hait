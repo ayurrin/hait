{
 "cells": [
  {
   "cell_type": "code",
   "execution_count": 6,
   "metadata": {},
   "outputs": [],
   "source": [
    "#必要なものをインストール\n",
    "from sklearn.model_selection import KFold\n",
    "import numpy as np\n",
    "import pandas as pd\n",
    "from sklearn.ensemble import (RandomForestClassifier, AdaBoostClassifier, \n",
    "                              GradientBoostingClassifier, ExtraTreesClassifier)\n",
    "from sklearn.svm import SVC\n",
    "from sklearn.model_selection import train_test_split\n",
    "from sklearn.model_selection import GridSearchCV\n",
    "import lightgbm as lgb\n",
    "import xgboost as xgb\n",
    "from sklearn.metrics import confusion_matrix\n",
    "from sklearn import metrics\n",
    "from sklearn.model_selection import StratifiedKFold"
   ]
  },
  {
   "cell_type": "markdown",
   "metadata": {},
   "source": [
    "データセットをつくる\n",
    "ホールドアウト法で大体の結果を確かめるためのテスト用"
   ]
  },
  {
   "cell_type": "code",
   "execution_count": 7,
   "metadata": {},
   "outputs": [],
   "source": [
    "df_test=pd.read_csv(\"df_yy_all_log2.csv\")#ここに入れるデータ名を入れ替えていろいろな例を試す\n",
    "X = df_test.drop('y',axis=1).values\n",
    "y=df_test.loc[:,[\"y\"]].values\n",
    "X_train, X_test, y_train, y_test = train_test_split(X, y, test_size=0.3, random_state=1)\n",
    "y_train= y_train.reshape(-1)\n",
    "y_test= y_test.reshape(-1)"
   ]
  },
  {
   "cell_type": "markdown",
   "metadata": {},
   "source": [
    "データセット　本番用\n"
   ]
  },
  {
   "cell_type": "code",
   "execution_count": 12,
   "metadata": {},
   "outputs": [],
   "source": [
    "df=pd.read_csv(\"df_yy_all_log2.csv\")\n",
    "df_t=pd.read_csv('df_yy_all_log_test.csv')\n",
    "X_train= df.drop('y',axis=1).values\n",
    "y_train=df.loc[:,[\"y\"]].values\n",
    "X_test=df_t.values\n",
    "y_train= y_train.reshape(-1)"
   ]
  },
  {
   "cell_type": "markdown",
   "metadata": {},
   "source": [
    "学習モデルの作成"
   ]
  },
  {
   "cell_type": "code",
   "execution_count": 9,
   "metadata": {},
   "outputs": [],
   "source": [
    "rfc=RandomForestClassifier(random_state=0, n_estimators=1000,max_depth= 15,\n",
    "#                            class_weight=\"balanced\"　:うまくy＝1が予測されるようにしようとするときに試した\n",
    "                          )\n",
    "gbct = GradientBoostingClassifier(n_estimators=5000,random_state=0, max_depth=15, learning_rate=0.01)\n",
    "ada=AdaBoostClassifier(n_estimators=500, learning_rate=0.01, random_state=0)\n",
    "ext=ExtraTreesClassifier(n_estimators=10000, max_depth =6)\n",
    "rbf_svm = SVC(kernel='rbf', gamma=0.1, C=1,probability=True)\n",
    "lgb = lgb.LGBMClassifier(num_leaves = 30,learning_rate=0.1,min_child_samples=20,n_estimators=2000,\n",
    "#                          class_weight=\"balanced\" :うまくy＝1が予測されるようにしようとするときに試した\n",
    "                        )\n",
    "xgb = xgb.XGBClassifier(learning_rate = 0.02,n_estimators= 2000,max_depth= 15,min_child_weight= 1, gamma=0.9,\n",
    "#                         class_weight=\"balanced\"\n",
    "                       )"
   ]
  },
  {
   "cell_type": "markdown",
   "metadata": {},
   "source": [
    "K個に分割してtrainデータの予測値を求める"
   ]
  },
  {
   "cell_type": "code",
   "execution_count": 15,
   "metadata": {},
   "outputs": [],
   "source": [
    "def learn_model(model):\n",
    "#yのクラスの比率が等しくなるようにホールドする\n",
    "#     kf = KFold(n_splits=5, random_state=0, shuffle=True) :通常の分割方法\n",
    "# 分けたときのyのバランスが良くなるようにしたもの    \n",
    "    kf = StratifiedKFold(n_splits=5, shuffle=True, random_state=0)\n",
    "    ntrain=X_train.shape[0]\n",
    "    ntest=X_test.shape[0]\n",
    "#結果を記録していくためのものをつくる   \n",
    "    mo_train=np.zeros((ntrain,))\n",
    "    mo_test = np.zeros((ntest,))\n",
    "    mo_test_m = np.empty((5, ntest))\n",
    "    mo_train_pro=np.zeros((ntrain,))\n",
    "    mo_test_pro = np.zeros((ntest,))\n",
    "    mo_test_m_pro = np.empty((5, ntest))\n",
    "\n",
    "    for i, (train_index, test_index) in enumerate(kf.split(X_train,y_train)):\n",
    "    #分けたデータの1つは予測するためのテストデータとして扱い、残りのデータを使って学習する\n",
    "        \n",
    "        X_train_1, X_test_1 = X_train[train_index], X_train[test_index]\n",
    "        y_train_1, y_test_1 = y_train[train_index], y_train[test_index]\n",
    "\n",
    "        model.fit(X_train_1,y_train_1)\n",
    "        print('train accuracy: %.3f' % model.score(X_train_1, y_train_1))\n",
    "        print('test accuracy: %.3f' % model.score(X_test_1, y_test_1))\n",
    "        \n",
    "       \n",
    "        # 再現率を出力\n",
    "       \n",
    "        print(metrics.recall_score(y_test_1, model.predict(X_test_1)))\n",
    "        # 適合率を出力\n",
    "        print(metrics.precision_score(y_test_1, model.predict(X_test_1)))\n",
    "        # F値を出力\n",
    "        print(metrics.f1_score(y_test_1, model.predict(X_test_1)))\n",
    "         #クラスの予測や予測確率(_pro)を求める\n",
    "        mo_train[test_index] =model.predict(X_test_1)\n",
    "        mo_test_m[i, :] = model.predict(X_test)\n",
    "        mo_train_pro[test_index] =model.predict_proba(X_test_1)[:,1]\n",
    "        mo_test_m_pro[i, :] = model.predict_proba(X_test)[:,1]\n",
    "    #テストデータは5回作られることになるので平均を取る\n",
    "    mo_test[:]=mo_test_m.mean(axis=0)\n",
    "    mo_test_pro[:]=mo_test_m_pro.mean(axis=0)\n",
    "   \n",
    "    return mo_train.reshape(-1, 1), mo_test.reshape(-1, 1),mo_train_pro.reshape(-1, 1), mo_test_pro.reshape(-1, 1)"
   ]
  },
  {
   "cell_type": "markdown",
   "metadata": {},
   "source": [
    "学習させるモデルを順番に学習して、train,testの結果を受け取る"
   ]
  },
  {
   "cell_type": "code",
   "execution_count": 142,
   "metadata": {},
   "outputs": [
    {
     "name": "stdout",
     "output_type": "stream",
     "text": [
      "1.0\n",
      "{'n_estimators': 1000}\n"
     ]
    }
   ],
   "source": [
    "#Gridsearchにより最適なパラメータを求める（RandomForest）\n",
    "\n",
    "# params = {'n_estimators'  : [ 10, 100, 1000, 10000] }\n",
    "# kf_1 = StratifiedKFold(n_splits=5, shuffle=True, random_state=0)\n",
    "# gs_rf = GridSearchCV(RandomForestClassifier(), params, cv = kf_1)\n",
    "# gs_rf.fit(X_train, y_train)\n",
    "# print(gs_rf.score(X_train,y_train))\n",
    "# print(gs_rf.best_params_)"
   ]
  },
  {
   "cell_type": "code",
   "execution_count": 16,
   "metadata": {},
   "outputs": [
    {
     "name": "stdout",
     "output_type": "stream",
     "text": [
      "rfc\n",
      "train accuracy: 0.968\n",
      "test accuracy: 0.905\n",
      "0.352755905511811\n",
      "0.676737160120846\n",
      "0.46376811594202894\n",
      "train accuracy: 0.969\n",
      "test accuracy: 0.900\n",
      "0.33070866141732286\n",
      "0.6461538461538462\n",
      "0.43750000000000006\n",
      "train accuracy: 0.969\n",
      "test accuracy: 0.903\n",
      "0.3590551181102362\n",
      "0.6570605187319885\n",
      "0.46435845213849286\n",
      "train accuracy: 0.968\n",
      "test accuracy: 0.905\n",
      "0.34960629921259845\n",
      "0.6873065015479877\n",
      "0.46346555323590816\n",
      "train accuracy: 0.969\n",
      "test accuracy: 0.902\n",
      "0.30757097791798105\n",
      "0.6794425087108014\n",
      "0.42345276872964166\n"
     ]
    }
   ],
   "source": [
    "#RandomForestの学習\n",
    "print(\"rfc\")\n",
    "rfc_train,rfc_test,rfc_train_pro,rfc_test_pro=learn_model(rfc)"
   ]
  },
  {
   "cell_type": "code",
   "execution_count": 146,
   "metadata": {},
   "outputs": [
    {
     "name": "stdout",
     "output_type": "stream",
     "text": [
      "0.9329997699562917\n"
     ]
    }
   ],
   "source": [
    "#Gridsearch:GrasientBoost\n",
    "\n",
    "# params = {'n_estimators'  : [ 5000,8000], \n",
    "#          'learning_rate' :[0.01,0.005]}\n",
    "# gs_gb = GridSearchCV(GradientBoostingClassifier(), params, cv = kf_1)\n",
    "# gs_gb.fit(X_train, y_train)\n",
    "# print(gs_gb.score(X_train,y_train))"
   ]
  },
  {
   "cell_type": "code",
   "execution_count": 145,
   "metadata": {},
   "outputs": [
    {
     "name": "stdout",
     "output_type": "stream",
     "text": [
      "{'learning_rate': 0.01, 'n_estimators': 5000}\n"
     ]
    }
   ],
   "source": [
    "# print(gs_gb.best_params_)"
   ]
  },
  {
   "cell_type": "code",
   "execution_count": 17,
   "metadata": {},
   "outputs": [
    {
     "name": "stdout",
     "output_type": "stream",
     "text": [
      "gbct\n",
      "train accuracy: 1.000\n",
      "test accuracy: 0.898\n",
      "0.44251968503937006\n",
      "0.5841995841995842\n",
      "0.503584229390681\n",
      "train accuracy: 1.000\n",
      "test accuracy: 0.899\n",
      "0.431496062992126\n",
      "0.591792656587473\n",
      "0.49908925318761393\n",
      "train accuracy: 1.000\n",
      "test accuracy: 0.898\n",
      "0.4393700787401575\n",
      "0.5873684210526315\n",
      "0.5027027027027027\n",
      "train accuracy: 1.000\n",
      "test accuracy: 0.907\n",
      "0.47244094488188976\n",
      "0.6396588486140725\n",
      "0.5434782608695652\n",
      "train accuracy: 1.000\n",
      "test accuracy: 0.901\n",
      "0.41798107255520506\n",
      "0.6091954022988506\n",
      "0.4957904583723106\n"
     ]
    }
   ],
   "source": [
    "#GrasientBoostの学習\n",
    "print(\"gbct\")\n",
    "gbct_train,gbct_test,gbct_train_pro,gbct_test_pro=learn_model(gbct)"
   ]
  },
  {
   "cell_type": "code",
   "execution_count": null,
   "metadata": {},
   "outputs": [],
   "source": [
    "#Gridsearch:\n",
    "\n",
    "# params = {'n_estimators'  : [ 10, 100, 1000, 10000], \n",
    "#          'learning_rate' :[0.01,,1.0]}\n",
    "# gs_ad = GridSearchCV(AdaBoostClassifier(), params, cv = kf_1)\n",
    "# gs_ad.fit(X_train, y_train)\n",
    "# print(gs_ad.score(X_train,y_train))"
   ]
  },
  {
   "cell_type": "code",
   "execution_count": 18,
   "metadata": {},
   "outputs": [
    {
     "name": "stdout",
     "output_type": "stream",
     "text": [
      "ad\n",
      "train accuracy: 0.889\n",
      "test accuracy: 0.889\n",
      "0.07401574803149606\n",
      "0.7580645161290323\n",
      "0.13486370157819225\n",
      "train accuracy: 0.889\n",
      "test accuracy: 0.887\n",
      "0.05826771653543307\n",
      "0.6981132075471698\n",
      "0.10755813953488373\n",
      "train accuracy: 0.889\n",
      "test accuracy: 0.889\n",
      "0.09763779527559055\n",
      "0.6813186813186813\n",
      "0.17079889807162532\n",
      "train accuracy: 0.888\n",
      "test accuracy: 0.890\n",
      "0.08346456692913386\n",
      "0.7681159420289855\n",
      "0.15056818181818182\n",
      "train accuracy: 0.890\n",
      "test accuracy: 0.889\n",
      "0.07886435331230283\n",
      "0.7352941176470589\n",
      "0.14245014245014245\n"
     ]
    }
   ],
   "source": [
    "#AdaBoostの学習\n",
    "print(\"ad\")\n",
    "ada_train, ada_test,ada_train_pro, ada_test_pro=learn_model(ada)\n"
   ]
  },
  {
   "cell_type": "code",
   "execution_count": null,
   "metadata": {},
   "outputs": [],
   "source": [
    "#Grisserch: ExtraTreesClassifier\n",
    "\n",
    "# params = {'n_estimators'  : [10, 100, 1000, 10000], \n",
    "#          }\n",
    "# gs_ex = GridSearchCV(ExtraTreesClassifier(), params, cv = kf_1)\n",
    "# gs_ex.fit(X_train, y_train)\n",
    "# print(gs_ex.score(X_train,y_train))"
   ]
  },
  {
   "cell_type": "code",
   "execution_count": 19,
   "metadata": {},
   "outputs": [
    {
     "name": "stdout",
     "output_type": "stream",
     "text": [
      "ext\n",
      "train accuracy: 0.894\n",
      "test accuracy: 0.895\n",
      "0.14330708661417324\n",
      "0.7777777777777778\n",
      "0.2420212765957447\n",
      "train accuracy: 0.895\n",
      "test accuracy: 0.892\n",
      "0.14015748031496064\n",
      "0.7007874015748031\n",
      "0.23359580052493437\n",
      "train accuracy: 0.894\n",
      "test accuracy: 0.893\n",
      "0.14803149606299212\n",
      "0.6962962962962963\n",
      "0.24415584415584415\n",
      "train accuracy: 0.894\n",
      "test accuracy: 0.895\n",
      "0.14645669291338584\n",
      "0.7560975609756098\n",
      "0.2453825857519789\n",
      "train accuracy: 0.895\n",
      "test accuracy: 0.890\n",
      "0.10725552050473186\n",
      "0.6868686868686869\n",
      "0.18553888130968624\n"
     ]
    }
   ],
   "source": [
    "#ExtraTreesClassifierの学習\n",
    "print(\"ext\")\n",
    "ext_train, ext_test,ext_train_pro, ext_test_pro=learn_model(ext)"
   ]
  },
  {
   "cell_type": "code",
   "execution_count": 1,
   "metadata": {
    "scrolled": true
   },
   "outputs": [],
   "source": [
    "#GridSearch :SVC\n",
    "\n",
    "# param_grid = {'C': [0.1, 1.0, 10],\n",
    "#  'gamma': [0.001, 0.01]}\n",
    "# gs_svc = GridSearchCV(SVC(), param_grid, cv=kf_1)\n",
    "# gs_svc.fit(X_train,y_train)"
   ]
  },
  {
   "cell_type": "code",
   "execution_count": null,
   "metadata": {},
   "outputs": [],
   "source": [
    "# gs_svc.best_params_"
   ]
  },
  {
   "cell_type": "code",
   "execution_count": 2,
   "metadata": {},
   "outputs": [],
   "source": [
    "#SVCの学習（精度が悪く、学習時間が長いため使用しない）\n",
    "# print(\"svc\")\n",
    "# svm_train, svm_test,svm_train_pro, svm_test_pro=learn_model(rbf_svm)"
   ]
  },
  {
   "cell_type": "code",
   "execution_count": 20,
   "metadata": {},
   "outputs": [
    {
     "name": "stdout",
     "output_type": "stream",
     "text": [
      "lgb\n"
     ]
    },
    {
     "name": "stderr",
     "output_type": "stream",
     "text": [
      "C:\\Users\\yuri\\Anaconda3\\lib\\site-packages\\sklearn\\preprocessing\\label.py:151: DeprecationWarning: The truth value of an empty array is ambiguous. Returning False, but in future this will result in an error. Use `array.size > 0` to check that an array is not empty.\n",
      "  if diff:\n"
     ]
    },
    {
     "name": "stdout",
     "output_type": "stream",
     "text": [
      "train accuracy: 1.000\n"
     ]
    },
    {
     "name": "stderr",
     "output_type": "stream",
     "text": [
      "C:\\Users\\yuri\\Anaconda3\\lib\\site-packages\\sklearn\\preprocessing\\label.py:151: DeprecationWarning: The truth value of an empty array is ambiguous. Returning False, but in future this will result in an error. Use `array.size > 0` to check that an array is not empty.\n",
      "  if diff:\n"
     ]
    },
    {
     "name": "stdout",
     "output_type": "stream",
     "text": [
      "test accuracy: 0.901\n"
     ]
    },
    {
     "name": "stderr",
     "output_type": "stream",
     "text": [
      "C:\\Users\\yuri\\Anaconda3\\lib\\site-packages\\sklearn\\preprocessing\\label.py:151: DeprecationWarning: The truth value of an empty array is ambiguous. Returning False, but in future this will result in an error. Use `array.size > 0` to check that an array is not empty.\n",
      "  if diff:\n"
     ]
    },
    {
     "name": "stdout",
     "output_type": "stream",
     "text": [
      "0.46141732283464565\n"
     ]
    },
    {
     "name": "stderr",
     "output_type": "stream",
     "text": [
      "C:\\Users\\yuri\\Anaconda3\\lib\\site-packages\\sklearn\\preprocessing\\label.py:151: DeprecationWarning: The truth value of an empty array is ambiguous. Returning False, but in future this will result in an error. Use `array.size > 0` to check that an array is not empty.\n",
      "  if diff:\n"
     ]
    },
    {
     "name": "stdout",
     "output_type": "stream",
     "text": [
      "0.602880658436214\n"
     ]
    },
    {
     "name": "stderr",
     "output_type": "stream",
     "text": [
      "C:\\Users\\yuri\\Anaconda3\\lib\\site-packages\\sklearn\\preprocessing\\label.py:151: DeprecationWarning: The truth value of an empty array is ambiguous. Returning False, but in future this will result in an error. Use `array.size > 0` to check that an array is not empty.\n",
      "  if diff:\n"
     ]
    },
    {
     "name": "stdout",
     "output_type": "stream",
     "text": [
      "0.5227475468331847\n"
     ]
    },
    {
     "name": "stderr",
     "output_type": "stream",
     "text": [
      "C:\\Users\\yuri\\Anaconda3\\lib\\site-packages\\sklearn\\preprocessing\\label.py:151: DeprecationWarning: The truth value of an empty array is ambiguous. Returning False, but in future this will result in an error. Use `array.size > 0` to check that an array is not empty.\n",
      "  if diff:\n",
      "C:\\Users\\yuri\\Anaconda3\\lib\\site-packages\\sklearn\\preprocessing\\label.py:151: DeprecationWarning: The truth value of an empty array is ambiguous. Returning False, but in future this will result in an error. Use `array.size > 0` to check that an array is not empty.\n",
      "  if diff:\n",
      "C:\\Users\\yuri\\Anaconda3\\lib\\site-packages\\sklearn\\preprocessing\\label.py:151: DeprecationWarning: The truth value of an empty array is ambiguous. Returning False, but in future this will result in an error. Use `array.size > 0` to check that an array is not empty.\n",
      "  if diff:\n"
     ]
    },
    {
     "name": "stdout",
     "output_type": "stream",
     "text": [
      "train accuracy: 1.000\n"
     ]
    },
    {
     "name": "stderr",
     "output_type": "stream",
     "text": [
      "C:\\Users\\yuri\\Anaconda3\\lib\\site-packages\\sklearn\\preprocessing\\label.py:151: DeprecationWarning: The truth value of an empty array is ambiguous. Returning False, but in future this will result in an error. Use `array.size > 0` to check that an array is not empty.\n",
      "  if diff:\n"
     ]
    },
    {
     "name": "stdout",
     "output_type": "stream",
     "text": [
      "test accuracy: 0.899\n"
     ]
    },
    {
     "name": "stderr",
     "output_type": "stream",
     "text": [
      "C:\\Users\\yuri\\Anaconda3\\lib\\site-packages\\sklearn\\preprocessing\\label.py:151: DeprecationWarning: The truth value of an empty array is ambiguous. Returning False, but in future this will result in an error. Use `array.size > 0` to check that an array is not empty.\n",
      "  if diff:\n"
     ]
    },
    {
     "name": "stdout",
     "output_type": "stream",
     "text": [
      "0.4283464566929134\n"
     ]
    },
    {
     "name": "stderr",
     "output_type": "stream",
     "text": [
      "C:\\Users\\yuri\\Anaconda3\\lib\\site-packages\\sklearn\\preprocessing\\label.py:151: DeprecationWarning: The truth value of an empty array is ambiguous. Returning False, but in future this will result in an error. Use `array.size > 0` to check that an array is not empty.\n",
      "  if diff:\n"
     ]
    },
    {
     "name": "stdout",
     "output_type": "stream",
     "text": [
      "0.5964912280701754\n"
     ]
    },
    {
     "name": "stderr",
     "output_type": "stream",
     "text": [
      "C:\\Users\\yuri\\Anaconda3\\lib\\site-packages\\sklearn\\preprocessing\\label.py:151: DeprecationWarning: The truth value of an empty array is ambiguous. Returning False, but in future this will result in an error. Use `array.size > 0` to check that an array is not empty.\n",
      "  if diff:\n"
     ]
    },
    {
     "name": "stdout",
     "output_type": "stream",
     "text": [
      "0.49862511457378556\n"
     ]
    },
    {
     "name": "stderr",
     "output_type": "stream",
     "text": [
      "C:\\Users\\yuri\\Anaconda3\\lib\\site-packages\\sklearn\\preprocessing\\label.py:151: DeprecationWarning: The truth value of an empty array is ambiguous. Returning False, but in future this will result in an error. Use `array.size > 0` to check that an array is not empty.\n",
      "  if diff:\n",
      "C:\\Users\\yuri\\Anaconda3\\lib\\site-packages\\sklearn\\preprocessing\\label.py:151: DeprecationWarning: The truth value of an empty array is ambiguous. Returning False, but in future this will result in an error. Use `array.size > 0` to check that an array is not empty.\n",
      "  if diff:\n",
      "C:\\Users\\yuri\\Anaconda3\\lib\\site-packages\\sklearn\\preprocessing\\label.py:151: DeprecationWarning: The truth value of an empty array is ambiguous. Returning False, but in future this will result in an error. Use `array.size > 0` to check that an array is not empty.\n",
      "  if diff:\n"
     ]
    },
    {
     "name": "stdout",
     "output_type": "stream",
     "text": [
      "train accuracy: 1.000\n"
     ]
    },
    {
     "name": "stderr",
     "output_type": "stream",
     "text": [
      "C:\\Users\\yuri\\Anaconda3\\lib\\site-packages\\sklearn\\preprocessing\\label.py:151: DeprecationWarning: The truth value of an empty array is ambiguous. Returning False, but in future this will result in an error. Use `array.size > 0` to check that an array is not empty.\n",
      "  if diff:\n"
     ]
    },
    {
     "name": "stdout",
     "output_type": "stream",
     "text": [
      "test accuracy: 0.904\n"
     ]
    },
    {
     "name": "stderr",
     "output_type": "stream",
     "text": [
      "C:\\Users\\yuri\\Anaconda3\\lib\\site-packages\\sklearn\\preprocessing\\label.py:151: DeprecationWarning: The truth value of an empty array is ambiguous. Returning False, but in future this will result in an error. Use `array.size > 0` to check that an array is not empty.\n",
      "  if diff:\n"
     ]
    },
    {
     "name": "stdout",
     "output_type": "stream",
     "text": [
      "0.4818897637795276\n"
     ]
    },
    {
     "name": "stderr",
     "output_type": "stream",
     "text": [
      "C:\\Users\\yuri\\Anaconda3\\lib\\site-packages\\sklearn\\preprocessing\\label.py:151: DeprecationWarning: The truth value of an empty array is ambiguous. Returning False, but in future this will result in an error. Use `array.size > 0` to check that an array is not empty.\n",
      "  if diff:\n"
     ]
    },
    {
     "name": "stdout",
     "output_type": "stream",
     "text": [
      "0.6169354838709677\n"
     ]
    },
    {
     "name": "stderr",
     "output_type": "stream",
     "text": [
      "C:\\Users\\yuri\\Anaconda3\\lib\\site-packages\\sklearn\\preprocessing\\label.py:151: DeprecationWarning: The truth value of an empty array is ambiguous. Returning False, but in future this will result in an error. Use `array.size > 0` to check that an array is not empty.\n",
      "  if diff:\n"
     ]
    },
    {
     "name": "stdout",
     "output_type": "stream",
     "text": [
      "0.5411140583554377\n"
     ]
    },
    {
     "name": "stderr",
     "output_type": "stream",
     "text": [
      "C:\\Users\\yuri\\Anaconda3\\lib\\site-packages\\sklearn\\preprocessing\\label.py:151: DeprecationWarning: The truth value of an empty array is ambiguous. Returning False, but in future this will result in an error. Use `array.size > 0` to check that an array is not empty.\n",
      "  if diff:\n",
      "C:\\Users\\yuri\\Anaconda3\\lib\\site-packages\\sklearn\\preprocessing\\label.py:151: DeprecationWarning: The truth value of an empty array is ambiguous. Returning False, but in future this will result in an error. Use `array.size > 0` to check that an array is not empty.\n",
      "  if diff:\n",
      "C:\\Users\\yuri\\Anaconda3\\lib\\site-packages\\sklearn\\preprocessing\\label.py:151: DeprecationWarning: The truth value of an empty array is ambiguous. Returning False, but in future this will result in an error. Use `array.size > 0` to check that an array is not empty.\n",
      "  if diff:\n"
     ]
    },
    {
     "name": "stdout",
     "output_type": "stream",
     "text": [
      "train accuracy: 1.000\n"
     ]
    },
    {
     "name": "stderr",
     "output_type": "stream",
     "text": [
      "C:\\Users\\yuri\\Anaconda3\\lib\\site-packages\\sklearn\\preprocessing\\label.py:151: DeprecationWarning: The truth value of an empty array is ambiguous. Returning False, but in future this will result in an error. Use `array.size > 0` to check that an array is not empty.\n",
      "  if diff:\n"
     ]
    },
    {
     "name": "stdout",
     "output_type": "stream",
     "text": [
      "test accuracy: 0.910\n"
     ]
    },
    {
     "name": "stderr",
     "output_type": "stream",
     "text": [
      "C:\\Users\\yuri\\Anaconda3\\lib\\site-packages\\sklearn\\preprocessing\\label.py:151: DeprecationWarning: The truth value of an empty array is ambiguous. Returning False, but in future this will result in an error. Use `array.size > 0` to check that an array is not empty.\n",
      "  if diff:\n"
     ]
    },
    {
     "name": "stdout",
     "output_type": "stream",
     "text": [
      "0.4818897637795276\n"
     ]
    },
    {
     "name": "stderr",
     "output_type": "stream",
     "text": [
      "C:\\Users\\yuri\\Anaconda3\\lib\\site-packages\\sklearn\\preprocessing\\label.py:151: DeprecationWarning: The truth value of an empty array is ambiguous. Returning False, but in future this will result in an error. Use `array.size > 0` to check that an array is not empty.\n",
      "  if diff:\n"
     ]
    },
    {
     "name": "stdout",
     "output_type": "stream",
     "text": [
      "0.6566523605150214\n"
     ]
    },
    {
     "name": "stderr",
     "output_type": "stream",
     "text": [
      "C:\\Users\\yuri\\Anaconda3\\lib\\site-packages\\sklearn\\preprocessing\\label.py:151: DeprecationWarning: The truth value of an empty array is ambiguous. Returning False, but in future this will result in an error. Use `array.size > 0` to check that an array is not empty.\n",
      "  if diff:\n"
     ]
    },
    {
     "name": "stdout",
     "output_type": "stream",
     "text": [
      "0.555858310626703\n"
     ]
    },
    {
     "name": "stderr",
     "output_type": "stream",
     "text": [
      "C:\\Users\\yuri\\Anaconda3\\lib\\site-packages\\sklearn\\preprocessing\\label.py:151: DeprecationWarning: The truth value of an empty array is ambiguous. Returning False, but in future this will result in an error. Use `array.size > 0` to check that an array is not empty.\n",
      "  if diff:\n",
      "C:\\Users\\yuri\\Anaconda3\\lib\\site-packages\\sklearn\\preprocessing\\label.py:151: DeprecationWarning: The truth value of an empty array is ambiguous. Returning False, but in future this will result in an error. Use `array.size > 0` to check that an array is not empty.\n",
      "  if diff:\n",
      "C:\\Users\\yuri\\Anaconda3\\lib\\site-packages\\sklearn\\preprocessing\\label.py:151: DeprecationWarning: The truth value of an empty array is ambiguous. Returning False, but in future this will result in an error. Use `array.size > 0` to check that an array is not empty.\n",
      "  if diff:\n"
     ]
    },
    {
     "name": "stdout",
     "output_type": "stream",
     "text": [
      "train accuracy: 1.000\n"
     ]
    },
    {
     "name": "stderr",
     "output_type": "stream",
     "text": [
      "C:\\Users\\yuri\\Anaconda3\\lib\\site-packages\\sklearn\\preprocessing\\label.py:151: DeprecationWarning: The truth value of an empty array is ambiguous. Returning False, but in future this will result in an error. Use `array.size > 0` to check that an array is not empty.\n",
      "  if diff:\n"
     ]
    },
    {
     "name": "stdout",
     "output_type": "stream",
     "text": [
      "test accuracy: 0.905\n"
     ]
    },
    {
     "name": "stderr",
     "output_type": "stream",
     "text": [
      "C:\\Users\\yuri\\Anaconda3\\lib\\site-packages\\sklearn\\preprocessing\\label.py:151: DeprecationWarning: The truth value of an empty array is ambiguous. Returning False, but in future this will result in an error. Use `array.size > 0` to check that an array is not empty.\n",
      "  if diff:\n"
     ]
    },
    {
     "name": "stdout",
     "output_type": "stream",
     "text": [
      "0.4400630914826498\n"
     ]
    },
    {
     "name": "stderr",
     "output_type": "stream",
     "text": [
      "C:\\Users\\yuri\\Anaconda3\\lib\\site-packages\\sklearn\\preprocessing\\label.py:151: DeprecationWarning: The truth value of an empty array is ambiguous. Returning False, but in future this will result in an error. Use `array.size > 0` to check that an array is not empty.\n",
      "  if diff:\n"
     ]
    },
    {
     "name": "stdout",
     "output_type": "stream",
     "text": [
      "0.636986301369863\n"
     ]
    },
    {
     "name": "stderr",
     "output_type": "stream",
     "text": [
      "C:\\Users\\yuri\\Anaconda3\\lib\\site-packages\\sklearn\\preprocessing\\label.py:151: DeprecationWarning: The truth value of an empty array is ambiguous. Returning False, but in future this will result in an error. Use `array.size > 0` to check that an array is not empty.\n",
      "  if diff:\n"
     ]
    },
    {
     "name": "stdout",
     "output_type": "stream",
     "text": [
      "0.5205223880597014\n"
     ]
    },
    {
     "name": "stderr",
     "output_type": "stream",
     "text": [
      "C:\\Users\\yuri\\Anaconda3\\lib\\site-packages\\sklearn\\preprocessing\\label.py:151: DeprecationWarning: The truth value of an empty array is ambiguous. Returning False, but in future this will result in an error. Use `array.size > 0` to check that an array is not empty.\n",
      "  if diff:\n",
      "C:\\Users\\yuri\\Anaconda3\\lib\\site-packages\\sklearn\\preprocessing\\label.py:151: DeprecationWarning: The truth value of an empty array is ambiguous. Returning False, but in future this will result in an error. Use `array.size > 0` to check that an array is not empty.\n",
      "  if diff:\n"
     ]
    }
   ],
   "source": [
    "#lightGBMの学習\n",
    "print(\"lgb\")\n",
    "lgb_train, lgb_test,lgb_train_pro, lgb_test_pro=learn_model(lgb)"
   ]
  },
  {
   "cell_type": "code",
   "execution_count": 21,
   "metadata": {},
   "outputs": [
    {
     "name": "stdout",
     "output_type": "stream",
     "text": [
      "xgb\n"
     ]
    },
    {
     "name": "stderr",
     "output_type": "stream",
     "text": [
      "C:\\Users\\yuri\\Anaconda3\\lib\\site-packages\\sklearn\\preprocessing\\label.py:151: DeprecationWarning: The truth value of an empty array is ambiguous. Returning False, but in future this will result in an error. Use `array.size > 0` to check that an array is not empty.\n",
      "  if diff:\n"
     ]
    },
    {
     "name": "stdout",
     "output_type": "stream",
     "text": [
      "train accuracy: 0.996\n"
     ]
    },
    {
     "name": "stderr",
     "output_type": "stream",
     "text": [
      "C:\\Users\\yuri\\Anaconda3\\lib\\site-packages\\sklearn\\preprocessing\\label.py:151: DeprecationWarning: The truth value of an empty array is ambiguous. Returning False, but in future this will result in an error. Use `array.size > 0` to check that an array is not empty.\n",
      "  if diff:\n"
     ]
    },
    {
     "name": "stdout",
     "output_type": "stream",
     "text": [
      "test accuracy: 0.904\n"
     ]
    },
    {
     "name": "stderr",
     "output_type": "stream",
     "text": [
      "C:\\Users\\yuri\\Anaconda3\\lib\\site-packages\\sklearn\\preprocessing\\label.py:151: DeprecationWarning: The truth value of an empty array is ambiguous. Returning False, but in future this will result in an error. Use `array.size > 0` to check that an array is not empty.\n",
      "  if diff:\n"
     ]
    },
    {
     "name": "stdout",
     "output_type": "stream",
     "text": [
      "0.46771653543307085\n"
     ]
    },
    {
     "name": "stderr",
     "output_type": "stream",
     "text": [
      "C:\\Users\\yuri\\Anaconda3\\lib\\site-packages\\sklearn\\preprocessing\\label.py:151: DeprecationWarning: The truth value of an empty array is ambiguous. Returning False, but in future this will result in an error. Use `array.size > 0` to check that an array is not empty.\n",
      "  if diff:\n"
     ]
    },
    {
     "name": "stdout",
     "output_type": "stream",
     "text": [
      "0.6174636174636174\n"
     ]
    },
    {
     "name": "stderr",
     "output_type": "stream",
     "text": [
      "C:\\Users\\yuri\\Anaconda3\\lib\\site-packages\\sklearn\\preprocessing\\label.py:151: DeprecationWarning: The truth value of an empty array is ambiguous. Returning False, but in future this will result in an error. Use `array.size > 0` to check that an array is not empty.\n",
      "  if diff:\n"
     ]
    },
    {
     "name": "stdout",
     "output_type": "stream",
     "text": [
      "0.532258064516129\n"
     ]
    },
    {
     "name": "stderr",
     "output_type": "stream",
     "text": [
      "C:\\Users\\yuri\\Anaconda3\\lib\\site-packages\\sklearn\\preprocessing\\label.py:151: DeprecationWarning: The truth value of an empty array is ambiguous. Returning False, but in future this will result in an error. Use `array.size > 0` to check that an array is not empty.\n",
      "  if diff:\n",
      "C:\\Users\\yuri\\Anaconda3\\lib\\site-packages\\sklearn\\preprocessing\\label.py:151: DeprecationWarning: The truth value of an empty array is ambiguous. Returning False, but in future this will result in an error. Use `array.size > 0` to check that an array is not empty.\n",
      "  if diff:\n",
      "C:\\Users\\yuri\\Anaconda3\\lib\\site-packages\\sklearn\\preprocessing\\label.py:151: DeprecationWarning: The truth value of an empty array is ambiguous. Returning False, but in future this will result in an error. Use `array.size > 0` to check that an array is not empty.\n",
      "  if diff:\n"
     ]
    },
    {
     "name": "stdout",
     "output_type": "stream",
     "text": [
      "train accuracy: 0.996\n"
     ]
    },
    {
     "name": "stderr",
     "output_type": "stream",
     "text": [
      "C:\\Users\\yuri\\Anaconda3\\lib\\site-packages\\sklearn\\preprocessing\\label.py:151: DeprecationWarning: The truth value of an empty array is ambiguous. Returning False, but in future this will result in an error. Use `array.size > 0` to check that an array is not empty.\n",
      "  if diff:\n"
     ]
    },
    {
     "name": "stdout",
     "output_type": "stream",
     "text": [
      "test accuracy: 0.898\n"
     ]
    },
    {
     "name": "stderr",
     "output_type": "stream",
     "text": [
      "C:\\Users\\yuri\\Anaconda3\\lib\\site-packages\\sklearn\\preprocessing\\label.py:151: DeprecationWarning: The truth value of an empty array is ambiguous. Returning False, but in future this will result in an error. Use `array.size > 0` to check that an array is not empty.\n",
      "  if diff:\n"
     ]
    },
    {
     "name": "stdout",
     "output_type": "stream",
     "text": [
      "0.4377952755905512\n"
     ]
    },
    {
     "name": "stderr",
     "output_type": "stream",
     "text": [
      "C:\\Users\\yuri\\Anaconda3\\lib\\site-packages\\sklearn\\preprocessing\\label.py:151: DeprecationWarning: The truth value of an empty array is ambiguous. Returning False, but in future this will result in an error. Use `array.size > 0` to check that an array is not empty.\n",
      "  if diff:\n"
     ]
    },
    {
     "name": "stdout",
     "output_type": "stream",
     "text": [
      "0.5828092243186582\n"
     ]
    },
    {
     "name": "stderr",
     "output_type": "stream",
     "text": [
      "C:\\Users\\yuri\\Anaconda3\\lib\\site-packages\\sklearn\\preprocessing\\label.py:151: DeprecationWarning: The truth value of an empty array is ambiguous. Returning False, but in future this will result in an error. Use `array.size > 0` to check that an array is not empty.\n",
      "  if diff:\n"
     ]
    },
    {
     "name": "stdout",
     "output_type": "stream",
     "text": [
      "0.5\n"
     ]
    },
    {
     "name": "stderr",
     "output_type": "stream",
     "text": [
      "C:\\Users\\yuri\\Anaconda3\\lib\\site-packages\\sklearn\\preprocessing\\label.py:151: DeprecationWarning: The truth value of an empty array is ambiguous. Returning False, but in future this will result in an error. Use `array.size > 0` to check that an array is not empty.\n",
      "  if diff:\n",
      "C:\\Users\\yuri\\Anaconda3\\lib\\site-packages\\sklearn\\preprocessing\\label.py:151: DeprecationWarning: The truth value of an empty array is ambiguous. Returning False, but in future this will result in an error. Use `array.size > 0` to check that an array is not empty.\n",
      "  if diff:\n",
      "C:\\Users\\yuri\\Anaconda3\\lib\\site-packages\\sklearn\\preprocessing\\label.py:151: DeprecationWarning: The truth value of an empty array is ambiguous. Returning False, but in future this will result in an error. Use `array.size > 0` to check that an array is not empty.\n",
      "  if diff:\n"
     ]
    },
    {
     "name": "stdout",
     "output_type": "stream",
     "text": [
      "train accuracy: 0.996\n"
     ]
    },
    {
     "name": "stderr",
     "output_type": "stream",
     "text": [
      "C:\\Users\\yuri\\Anaconda3\\lib\\site-packages\\sklearn\\preprocessing\\label.py:151: DeprecationWarning: The truth value of an empty array is ambiguous. Returning False, but in future this will result in an error. Use `array.size > 0` to check that an array is not empty.\n",
      "  if diff:\n"
     ]
    },
    {
     "name": "stdout",
     "output_type": "stream",
     "text": [
      "test accuracy: 0.904\n"
     ]
    },
    {
     "name": "stderr",
     "output_type": "stream",
     "text": [
      "C:\\Users\\yuri\\Anaconda3\\lib\\site-packages\\sklearn\\preprocessing\\label.py:151: DeprecationWarning: The truth value of an empty array is ambiguous. Returning False, but in future this will result in an error. Use `array.size > 0` to check that an array is not empty.\n",
      "  if diff:\n"
     ]
    },
    {
     "name": "stdout",
     "output_type": "stream",
     "text": [
      "0.49606299212598426\n"
     ]
    },
    {
     "name": "stderr",
     "output_type": "stream",
     "text": [
      "C:\\Users\\yuri\\Anaconda3\\lib\\site-packages\\sklearn\\preprocessing\\label.py:151: DeprecationWarning: The truth value of an empty array is ambiguous. Returning False, but in future this will result in an error. Use `array.size > 0` to check that an array is not empty.\n",
      "  if diff:\n"
     ]
    },
    {
     "name": "stdout",
     "output_type": "stream",
     "text": [
      "0.6081081081081081\n"
     ]
    },
    {
     "name": "stderr",
     "output_type": "stream",
     "text": [
      "C:\\Users\\yuri\\Anaconda3\\lib\\site-packages\\sklearn\\preprocessing\\label.py:151: DeprecationWarning: The truth value of an empty array is ambiguous. Returning False, but in future this will result in an error. Use `array.size > 0` to check that an array is not empty.\n",
      "  if diff:\n"
     ]
    },
    {
     "name": "stdout",
     "output_type": "stream",
     "text": [
      "0.5464006938421508\n"
     ]
    },
    {
     "name": "stderr",
     "output_type": "stream",
     "text": [
      "C:\\Users\\yuri\\Anaconda3\\lib\\site-packages\\sklearn\\preprocessing\\label.py:151: DeprecationWarning: The truth value of an empty array is ambiguous. Returning False, but in future this will result in an error. Use `array.size > 0` to check that an array is not empty.\n",
      "  if diff:\n",
      "C:\\Users\\yuri\\Anaconda3\\lib\\site-packages\\sklearn\\preprocessing\\label.py:151: DeprecationWarning: The truth value of an empty array is ambiguous. Returning False, but in future this will result in an error. Use `array.size > 0` to check that an array is not empty.\n",
      "  if diff:\n",
      "C:\\Users\\yuri\\Anaconda3\\lib\\site-packages\\sklearn\\preprocessing\\label.py:151: DeprecationWarning: The truth value of an empty array is ambiguous. Returning False, but in future this will result in an error. Use `array.size > 0` to check that an array is not empty.\n",
      "  if diff:\n"
     ]
    },
    {
     "name": "stdout",
     "output_type": "stream",
     "text": [
      "train accuracy: 0.994\n"
     ]
    },
    {
     "name": "stderr",
     "output_type": "stream",
     "text": [
      "C:\\Users\\yuri\\Anaconda3\\lib\\site-packages\\sklearn\\preprocessing\\label.py:151: DeprecationWarning: The truth value of an empty array is ambiguous. Returning False, but in future this will result in an error. Use `array.size > 0` to check that an array is not empty.\n",
      "  if diff:\n"
     ]
    },
    {
     "name": "stdout",
     "output_type": "stream",
     "text": [
      "test accuracy: 0.905\n"
     ]
    },
    {
     "name": "stderr",
     "output_type": "stream",
     "text": [
      "C:\\Users\\yuri\\Anaconda3\\lib\\site-packages\\sklearn\\preprocessing\\label.py:151: DeprecationWarning: The truth value of an empty array is ambiguous. Returning False, but in future this will result in an error. Use `array.size > 0` to check that an array is not empty.\n",
      "  if diff:\n"
     ]
    },
    {
     "name": "stdout",
     "output_type": "stream",
     "text": [
      "0.4755905511811024\n"
     ]
    },
    {
     "name": "stderr",
     "output_type": "stream",
     "text": [
      "C:\\Users\\yuri\\Anaconda3\\lib\\site-packages\\sklearn\\preprocessing\\label.py:151: DeprecationWarning: The truth value of an empty array is ambiguous. Returning False, but in future this will result in an error. Use `array.size > 0` to check that an array is not empty.\n",
      "  if diff:\n"
     ]
    },
    {
     "name": "stdout",
     "output_type": "stream",
     "text": [
      "0.6252587991718427\n"
     ]
    },
    {
     "name": "stderr",
     "output_type": "stream",
     "text": [
      "C:\\Users\\yuri\\Anaconda3\\lib\\site-packages\\sklearn\\preprocessing\\label.py:151: DeprecationWarning: The truth value of an empty array is ambiguous. Returning False, but in future this will result in an error. Use `array.size > 0` to check that an array is not empty.\n",
      "  if diff:\n"
     ]
    },
    {
     "name": "stdout",
     "output_type": "stream",
     "text": [
      "0.5402504472271914\n"
     ]
    },
    {
     "name": "stderr",
     "output_type": "stream",
     "text": [
      "C:\\Users\\yuri\\Anaconda3\\lib\\site-packages\\sklearn\\preprocessing\\label.py:151: DeprecationWarning: The truth value of an empty array is ambiguous. Returning False, but in future this will result in an error. Use `array.size > 0` to check that an array is not empty.\n",
      "  if diff:\n",
      "C:\\Users\\yuri\\Anaconda3\\lib\\site-packages\\sklearn\\preprocessing\\label.py:151: DeprecationWarning: The truth value of an empty array is ambiguous. Returning False, but in future this will result in an error. Use `array.size > 0` to check that an array is not empty.\n",
      "  if diff:\n",
      "C:\\Users\\yuri\\Anaconda3\\lib\\site-packages\\sklearn\\preprocessing\\label.py:151: DeprecationWarning: The truth value of an empty array is ambiguous. Returning False, but in future this will result in an error. Use `array.size > 0` to check that an array is not empty.\n",
      "  if diff:\n"
     ]
    },
    {
     "name": "stdout",
     "output_type": "stream",
     "text": [
      "train accuracy: 0.995\n"
     ]
    },
    {
     "name": "stderr",
     "output_type": "stream",
     "text": [
      "C:\\Users\\yuri\\Anaconda3\\lib\\site-packages\\sklearn\\preprocessing\\label.py:151: DeprecationWarning: The truth value of an empty array is ambiguous. Returning False, but in future this will result in an error. Use `array.size > 0` to check that an array is not empty.\n",
      "  if diff:\n"
     ]
    },
    {
     "name": "stdout",
     "output_type": "stream",
     "text": [
      "test accuracy: 0.902\n"
     ]
    },
    {
     "name": "stderr",
     "output_type": "stream",
     "text": [
      "C:\\Users\\yuri\\Anaconda3\\lib\\site-packages\\sklearn\\preprocessing\\label.py:151: DeprecationWarning: The truth value of an empty array is ambiguous. Returning False, but in future this will result in an error. Use `array.size > 0` to check that an array is not empty.\n",
      "  if diff:\n"
     ]
    },
    {
     "name": "stdout",
     "output_type": "stream",
     "text": [
      "0.4148264984227129\n"
     ]
    },
    {
     "name": "stderr",
     "output_type": "stream",
     "text": [
      "C:\\Users\\yuri\\Anaconda3\\lib\\site-packages\\sklearn\\preprocessing\\label.py:151: DeprecationWarning: The truth value of an empty array is ambiguous. Returning False, but in future this will result in an error. Use `array.size > 0` to check that an array is not empty.\n",
      "  if diff:\n"
     ]
    },
    {
     "name": "stdout",
     "output_type": "stream",
     "text": [
      "0.6232227488151659\n"
     ]
    },
    {
     "name": "stderr",
     "output_type": "stream",
     "text": [
      "C:\\Users\\yuri\\Anaconda3\\lib\\site-packages\\sklearn\\preprocessing\\label.py:151: DeprecationWarning: The truth value of an empty array is ambiguous. Returning False, but in future this will result in an error. Use `array.size > 0` to check that an array is not empty.\n",
      "  if diff:\n"
     ]
    },
    {
     "name": "stdout",
     "output_type": "stream",
     "text": [
      "0.49810606060606066\n"
     ]
    },
    {
     "name": "stderr",
     "output_type": "stream",
     "text": [
      "C:\\Users\\yuri\\Anaconda3\\lib\\site-packages\\sklearn\\preprocessing\\label.py:151: DeprecationWarning: The truth value of an empty array is ambiguous. Returning False, but in future this will result in an error. Use `array.size > 0` to check that an array is not empty.\n",
      "  if diff:\n",
      "C:\\Users\\yuri\\Anaconda3\\lib\\site-packages\\sklearn\\preprocessing\\label.py:151: DeprecationWarning: The truth value of an empty array is ambiguous. Returning False, but in future this will result in an error. Use `array.size > 0` to check that an array is not empty.\n",
      "  if diff:\n"
     ]
    }
   ],
   "source": [
    "#XGBoostの学習\n",
    "print(\"xgb\")\n",
    "xgb_train, xgb_test,xgb_train_pro, xgb_test_pro=learn_model(xgb)"
   ]
  },
  {
   "cell_type": "markdown",
   "metadata": {},
   "source": [
    "ロジスティック回帰追加"
   ]
  },
  {
   "cell_type": "code",
   "execution_count": 22,
   "metadata": {},
   "outputs": [],
   "source": [
    "from sklearn.preprocessing import StandardScaler\n",
    "#標準化\n",
    "scaler = StandardScaler()\n",
    "scaler.fit(X_train)\n",
    "X_std_ba = scaler.transform(X_train)\n",
    "X_std_test=scaler.transform(X_test)\n",
    "from sklearn.linear_model import LogisticRegression\n",
    "lr = LogisticRegression(C=1.0)\n"
   ]
  },
  {
   "cell_type": "code",
   "execution_count": 25,
   "metadata": {},
   "outputs": [],
   "source": [
    "#引数にtrainデータとtestデータを指定する以外上のモデルと一緒（標準化処理を加えたから）\n",
    "def learn_log(model,X_train,X_test):\n",
    "    kf =StratifiedKFold(n_splits=5, shuffle=True, random_state=0)\n",
    "    ntrain=X_train.shape[0]\n",
    "    ntest=X_test.shape[0]\n",
    "    mo_train=np.zeros((ntrain,))\n",
    "    mo_test = np.zeros((ntest,))\n",
    "    mo_test_m = np.empty((5, ntest))\n",
    "    mo_train_pro=np.zeros((ntrain,))\n",
    "    mo_test_pro = np.zeros((ntest,))\n",
    "    mo_test_m_pro = np.empty((5, ntest))\n",
    "\n",
    "    for i, (train_index, test_index) in enumerate(kf.split(X_train,y_train)):\n",
    "        X_train_1, X_test_1 = X_train[train_index], X_train[test_index]\n",
    "        y_train_1, y_test_1 = y_train[train_index], y_train[test_index]\n",
    "\n",
    "        model.fit(X_train_1,y_train_1)\n",
    "        print('train accuracy: %.3f' % model.score(X_train_1, y_train_1))\n",
    "        print('test accuracy: %.3f' % model.score(X_test_1, y_test_1))\n",
    "        # 再現率を出力\n",
    "        print(metrics.recall_score(y_test_1, model.predict(X_test_1)))\n",
    "        # 適合率を出力\n",
    "        print(metrics.precision_score(y_test_1, model.predict(X_test_1)))\n",
    "        # F値を出力\n",
    "        print(metrics.f1_score(y_test_1, model.predict(X_test_1)))\n",
    "\n",
    "        mo_train[test_index] =model.predict(X_test_1)\n",
    "        mo_test_m_pro[i, :] = model.predict(X_test)\n",
    "        mo_train_pro[test_index] =model.predict_proba(X_test_1)[:,1]\n",
    "        mo_test_m_pro[i, :] = model.predict_proba(X_test)[:,1]\n",
    "    mo_test[:]=mo_test_m.mean(axis=0)\n",
    "    mo_test_pro[:]=mo_test_m_pro.mean(axis=0)\n",
    "    # print(mo_test.reshape(-1,1))\n",
    "    return mo_train.reshape(-1, 1), mo_test.reshape(-1, 1),mo_train_pro.reshape(-1, 1), mo_test_pro.reshape(-1, 1)"
   ]
  },
  {
   "cell_type": "code",
   "execution_count": 26,
   "metadata": {},
   "outputs": [
    {
     "name": "stdout",
     "output_type": "stream",
     "text": [
      "train accuracy: 0.902\n",
      "test accuracy: 0.901\n",
      "0.33385826771653543\n",
      "0.6483180428134556\n",
      "0.4407484407484408\n",
      "train accuracy: 0.903\n",
      "test accuracy: 0.895\n",
      "0.3165354330708661\n",
      "0.5946745562130178\n",
      "0.4131551901336074\n",
      "train accuracy: 0.901\n",
      "test accuracy: 0.902\n",
      "0.3590551181102362\n",
      "0.6514285714285715\n",
      "0.4629441624365483\n",
      "train accuracy: 0.900\n",
      "test accuracy: 0.904\n",
      "0.36850393700787404\n",
      "0.6610169491525424\n",
      "0.47320525783619827\n",
      "train accuracy: 0.901\n",
      "test accuracy: 0.904\n",
      "0.3359621451104101\n",
      "0.6805111821086262\n",
      "0.44984160506863785\n"
     ]
    }
   ],
   "source": [
    "log_train, log_test, log_train_pro, log_test_pro=learn_log(lr,X_std_ba,X_std_test)"
   ]
  },
  {
   "cell_type": "markdown",
   "metadata": {},
   "source": [
    "1回目の学習を行ったデータが消えてしまうとまた実行し直すのが大変だからcsvファイルにしておく"
   ]
  },
  {
   "cell_type": "code",
   "execution_count": 23,
   "metadata": {},
   "outputs": [
    {
     "name": "stdout",
     "output_type": "stream",
     "text": [
      "base_pre_train.shape :  (18988, 7)\n"
     ]
    },
    {
     "data": {
      "text/html": [
       "<div>\n",
       "<style scoped>\n",
       "    .dataframe tbody tr th:only-of-type {\n",
       "        vertical-align: middle;\n",
       "    }\n",
       "\n",
       "    .dataframe tbody tr th {\n",
       "        vertical-align: top;\n",
       "    }\n",
       "\n",
       "    .dataframe thead th {\n",
       "        text-align: right;\n",
       "    }\n",
       "</style>\n",
       "<table border=\"1\" class=\"dataframe\">\n",
       "  <thead>\n",
       "    <tr style=\"text-align: right;\">\n",
       "      <th></th>\n",
       "      <th>RandomForest</th>\n",
       "      <th>ExtraTrees</th>\n",
       "      <th>AdaBoost</th>\n",
       "      <th>GradientBoost</th>\n",
       "      <th>Logistic</th>\n",
       "      <th>lightGBM</th>\n",
       "      <th>XGBoost</th>\n",
       "    </tr>\n",
       "  </thead>\n",
       "  <tbody>\n",
       "    <tr>\n",
       "      <th>0</th>\n",
       "      <td>0.0</td>\n",
       "      <td>0.0</td>\n",
       "      <td>0.0</td>\n",
       "      <td>0.0</td>\n",
       "      <td>0.0</td>\n",
       "      <td>0.0</td>\n",
       "      <td>0.0</td>\n",
       "    </tr>\n",
       "    <tr>\n",
       "      <th>1</th>\n",
       "      <td>0.0</td>\n",
       "      <td>0.0</td>\n",
       "      <td>0.0</td>\n",
       "      <td>0.0</td>\n",
       "      <td>0.0</td>\n",
       "      <td>0.0</td>\n",
       "      <td>0.0</td>\n",
       "    </tr>\n",
       "    <tr>\n",
       "      <th>2</th>\n",
       "      <td>0.0</td>\n",
       "      <td>0.0</td>\n",
       "      <td>0.0</td>\n",
       "      <td>0.0</td>\n",
       "      <td>0.0</td>\n",
       "      <td>0.0</td>\n",
       "      <td>0.0</td>\n",
       "    </tr>\n",
       "    <tr>\n",
       "      <th>3</th>\n",
       "      <td>0.0</td>\n",
       "      <td>0.0</td>\n",
       "      <td>0.0</td>\n",
       "      <td>0.0</td>\n",
       "      <td>0.0</td>\n",
       "      <td>0.0</td>\n",
       "      <td>0.0</td>\n",
       "    </tr>\n",
       "    <tr>\n",
       "      <th>4</th>\n",
       "      <td>0.0</td>\n",
       "      <td>0.0</td>\n",
       "      <td>0.0</td>\n",
       "      <td>0.0</td>\n",
       "      <td>0.0</td>\n",
       "      <td>0.0</td>\n",
       "      <td>0.0</td>\n",
       "    </tr>\n",
       "  </tbody>\n",
       "</table>\n",
       "</div>"
      ],
      "text/plain": [
       "   RandomForest  ExtraTrees  AdaBoost  GradientBoost  Logistic  lightGBM  \\\n",
       "0           0.0         0.0       0.0            0.0       0.0       0.0   \n",
       "1           0.0         0.0       0.0            0.0       0.0       0.0   \n",
       "2           0.0         0.0       0.0            0.0       0.0       0.0   \n",
       "3           0.0         0.0       0.0            0.0       0.0       0.0   \n",
       "4           0.0         0.0       0.0            0.0       0.0       0.0   \n",
       "\n",
       "   XGBoost  \n",
       "0      0.0  \n",
       "1      0.0  \n",
       "2      0.0  \n",
       "3      0.0  \n",
       "4      0.0  "
      ]
     },
     "execution_count": 23,
     "metadata": {},
     "output_type": "execute_result"
    }
   ],
   "source": [
    "#trainデータの1回目の学習で予測したラベル0か1\n",
    "#今回は基本的にラベルではなく確率を使用\n",
    "\n",
    "# base_pre_train = pd.DataFrame( {'RandomForest': rfc_train.ravel(),\n",
    "#      'ExtraTrees': ext_train.ravel(),\n",
    "#      'AdaBoost': ada_train.ravel(),\n",
    "# #         'svm': svm_train.ravel(),\n",
    "#       'GradientBoost': gbct_train.ravel(),\n",
    "#          \"Logistic\":log_train.ravel(),\n",
    "#         \"lightGBM\":lgb_train.ravel(),\n",
    "#         \"XGBoost\":xgb_train.ravel()\n",
    "                            \n",
    "                                \n",
    "#     })\n",
    "# print('base_pre_train.shape : ', base_pre_train.shape)\n",
    "# base_pre_train.head(5)"
   ]
  },
  {
   "cell_type": "code",
   "execution_count": 27,
   "metadata": {},
   "outputs": [
    {
     "name": "stdout",
     "output_type": "stream",
     "text": [
      "base_pre_train_pro.shape :  (27126, 7)\n"
     ]
    },
    {
     "data": {
      "text/html": [
       "<div>\n",
       "<style scoped>\n",
       "    .dataframe tbody tr th:only-of-type {\n",
       "        vertical-align: middle;\n",
       "    }\n",
       "\n",
       "    .dataframe tbody tr th {\n",
       "        vertical-align: top;\n",
       "    }\n",
       "\n",
       "    .dataframe thead th {\n",
       "        text-align: right;\n",
       "    }\n",
       "</style>\n",
       "<table border=\"1\" class=\"dataframe\">\n",
       "  <thead>\n",
       "    <tr style=\"text-align: right;\">\n",
       "      <th></th>\n",
       "      <th>RandomForest</th>\n",
       "      <th>ExtraTrees</th>\n",
       "      <th>AdaBoost</th>\n",
       "      <th>GradientBoost</th>\n",
       "      <th>Logistic</th>\n",
       "      <th>lightGBM</th>\n",
       "      <th>XGBoost</th>\n",
       "    </tr>\n",
       "  </thead>\n",
       "  <tbody>\n",
       "    <tr>\n",
       "      <th>0</th>\n",
       "      <td>0.624752</td>\n",
       "      <td>0.141266</td>\n",
       "      <td>0.465792</td>\n",
       "      <td>0.999319</td>\n",
       "      <td>0.421830</td>\n",
       "      <td>0.984461</td>\n",
       "      <td>0.979672</td>\n",
       "    </tr>\n",
       "    <tr>\n",
       "      <th>1</th>\n",
       "      <td>0.267777</td>\n",
       "      <td>0.108078</td>\n",
       "      <td>0.386848</td>\n",
       "      <td>0.402412</td>\n",
       "      <td>0.023375</td>\n",
       "      <td>0.002371</td>\n",
       "      <td>0.231638</td>\n",
       "    </tr>\n",
       "    <tr>\n",
       "      <th>2</th>\n",
       "      <td>0.650472</td>\n",
       "      <td>0.414676</td>\n",
       "      <td>0.464963</td>\n",
       "      <td>0.990537</td>\n",
       "      <td>0.910236</td>\n",
       "      <td>0.999641</td>\n",
       "      <td>0.959982</td>\n",
       "    </tr>\n",
       "    <tr>\n",
       "      <th>3</th>\n",
       "      <td>0.535363</td>\n",
       "      <td>0.308564</td>\n",
       "      <td>0.444146</td>\n",
       "      <td>0.879123</td>\n",
       "      <td>0.502835</td>\n",
       "      <td>0.376527</td>\n",
       "      <td>0.839066</td>\n",
       "    </tr>\n",
       "    <tr>\n",
       "      <th>4</th>\n",
       "      <td>0.726159</td>\n",
       "      <td>0.609523</td>\n",
       "      <td>0.524346</td>\n",
       "      <td>0.999958</td>\n",
       "      <td>0.925477</td>\n",
       "      <td>0.999928</td>\n",
       "      <td>0.992786</td>\n",
       "    </tr>\n",
       "  </tbody>\n",
       "</table>\n",
       "</div>"
      ],
      "text/plain": [
       "   RandomForest  ExtraTrees  AdaBoost  GradientBoost  Logistic  lightGBM  \\\n",
       "0      0.624752    0.141266  0.465792       0.999319  0.421830  0.984461   \n",
       "1      0.267777    0.108078  0.386848       0.402412  0.023375  0.002371   \n",
       "2      0.650472    0.414676  0.464963       0.990537  0.910236  0.999641   \n",
       "3      0.535363    0.308564  0.444146       0.879123  0.502835  0.376527   \n",
       "4      0.726159    0.609523  0.524346       0.999958  0.925477  0.999928   \n",
       "\n",
       "    XGBoost  \n",
       "0  0.979672  \n",
       "1  0.231638  \n",
       "2  0.959982  \n",
       "3  0.839066  \n",
       "4  0.992786  "
      ]
     },
     "execution_count": 27,
     "metadata": {},
     "output_type": "execute_result"
    }
   ],
   "source": [
    "#1回目の学習でtrainデータのラベルを予測した時の口座開設確率\n",
    "base_pre_train_pro = pd.DataFrame( {'RandomForest': rfc_train_pro.ravel(),\n",
    "     'ExtraTrees': ext_train_pro.ravel(),\n",
    "     'AdaBoost': ada_train_pro.ravel(),\n",
    "#         'svm': svm_train.ravel(),\n",
    "      'GradientBoost': gbct_train_pro.ravel(),\n",
    "         \"Logistic\":log_train_pro.ravel(),\n",
    "        \"lightGBM\":lgb_train_pro.ravel(),\n",
    "        \"XGBoost\":xgb_train_pro.ravel()\n",
    "                            \n",
    "                                \n",
    "    })\n",
    "print('base_pre_train_pro.shape : ', base_pre_train_pro.shape)\n",
    "base_pre_train_pro.head(5)"
   ]
  },
  {
   "cell_type": "code",
   "execution_count": 28,
   "metadata": {},
   "outputs": [
    {
     "name": "stdout",
     "output_type": "stream",
     "text": [
      "base_pre_train.shape :  (18083, 7)\n"
     ]
    },
    {
     "data": {
      "text/html": [
       "<div>\n",
       "<style scoped>\n",
       "    .dataframe tbody tr th:only-of-type {\n",
       "        vertical-align: middle;\n",
       "    }\n",
       "\n",
       "    .dataframe tbody tr th {\n",
       "        vertical-align: top;\n",
       "    }\n",
       "\n",
       "    .dataframe thead th {\n",
       "        text-align: right;\n",
       "    }\n",
       "</style>\n",
       "<table border=\"1\" class=\"dataframe\">\n",
       "  <thead>\n",
       "    <tr style=\"text-align: right;\">\n",
       "      <th></th>\n",
       "      <th>RandomForest</th>\n",
       "      <th>ExtraTrees</th>\n",
       "      <th>AdaBoost</th>\n",
       "      <th>GradientBoost</th>\n",
       "      <th>Logistic</th>\n",
       "      <th>lightGBM</th>\n",
       "      <th>XGBoost</th>\n",
       "    </tr>\n",
       "  </thead>\n",
       "  <tbody>\n",
       "    <tr>\n",
       "      <th>0</th>\n",
       "      <td>0.591686</td>\n",
       "      <td>0.238553</td>\n",
       "      <td>0.493959</td>\n",
       "      <td>0.987571</td>\n",
       "      <td>0.853369</td>\n",
       "      <td>9.684065e-01</td>\n",
       "      <td>0.982587</td>\n",
       "    </tr>\n",
       "    <tr>\n",
       "      <th>1</th>\n",
       "      <td>0.669127</td>\n",
       "      <td>0.136977</td>\n",
       "      <td>0.457117</td>\n",
       "      <td>0.859219</td>\n",
       "      <td>0.483809</td>\n",
       "      <td>8.662948e-01</td>\n",
       "      <td>0.958397</td>\n",
       "    </tr>\n",
       "    <tr>\n",
       "      <th>2</th>\n",
       "      <td>0.343893</td>\n",
       "      <td>0.039500</td>\n",
       "      <td>0.265986</td>\n",
       "      <td>0.173845</td>\n",
       "      <td>0.000062</td>\n",
       "      <td>1.510471e-07</td>\n",
       "      <td>0.010654</td>\n",
       "    </tr>\n",
       "    <tr>\n",
       "      <th>3</th>\n",
       "      <td>0.336631</td>\n",
       "      <td>0.042076</td>\n",
       "      <td>0.286329</td>\n",
       "      <td>0.238146</td>\n",
       "      <td>0.003138</td>\n",
       "      <td>7.884098e-08</td>\n",
       "      <td>0.034408</td>\n",
       "    </tr>\n",
       "    <tr>\n",
       "      <th>4</th>\n",
       "      <td>0.273175</td>\n",
       "      <td>0.128309</td>\n",
       "      <td>0.432357</td>\n",
       "      <td>0.028788</td>\n",
       "      <td>0.186114</td>\n",
       "      <td>2.228997e-02</td>\n",
       "      <td>0.731095</td>\n",
       "    </tr>\n",
       "  </tbody>\n",
       "</table>\n",
       "</div>"
      ],
      "text/plain": [
       "   RandomForest  ExtraTrees  AdaBoost  GradientBoost  Logistic      lightGBM  \\\n",
       "0      0.591686    0.238553  0.493959       0.987571  0.853369  9.684065e-01   \n",
       "1      0.669127    0.136977  0.457117       0.859219  0.483809  8.662948e-01   \n",
       "2      0.343893    0.039500  0.265986       0.173845  0.000062  1.510471e-07   \n",
       "3      0.336631    0.042076  0.286329       0.238146  0.003138  7.884098e-08   \n",
       "4      0.273175    0.128309  0.432357       0.028788  0.186114  2.228997e-02   \n",
       "\n",
       "    XGBoost  \n",
       "0  0.982587  \n",
       "1  0.958397  \n",
       "2  0.010654  \n",
       "3  0.034408  \n",
       "4  0.731095  "
      ]
     },
     "execution_count": 28,
     "metadata": {},
     "output_type": "execute_result"
    }
   ],
   "source": [
    "#1回目の学習でtestデータのラベルを予測した時の口座開設確率\n",
    "base_pre_test_pro = pd.DataFrame( {'RandomForest': rfc_test_pro.ravel(),\n",
    "     'ExtraTrees': ext_test_pro.ravel(),\n",
    "     'AdaBoost': ada_test_pro.ravel(),\n",
    "#         'svm': svm_train_pro.ravel(),\n",
    "      'GradientBoost': gbct_test_pro.ravel(),\n",
    "      \"Logistic\":log_test_pro.ravel(),\n",
    "        \"lightGBM\":lgb_test_pro.ravel(),\n",
    "        \"XGBoost\":xgb_test_pro.ravel()\n",
    "                                    \n",
    "    })\n",
    "print('base_pre_train.shape : ', base_pre_test_pro.shape)\n",
    "base_pre_test_pro.head(5)"
   ]
  },
  {
   "cell_type": "code",
   "execution_count": 5,
   "metadata": {},
   "outputs": [],
   "source": [
    "#testデータの1回目の学習で予測したラベル0か1\n",
    "\n",
    "# base_pre_test = pd.DataFrame( {'RandomForest': rfc_test.ravel(),\n",
    "#      'ExtraTrees': ext_test.ravel(),\n",
    "#      'AdaBoost': ada_test.ravel(),\n",
    "# #         'svm': svm_train_pro.ravel(),\n",
    "#       'GradientBoost': gbct_test.ravel(),\n",
    "#       \"Logistic\":log_test.ravel(),\n",
    "#         \"lightGBM\":lgb_test.ravel(),\n",
    "#         \"XGBoost\":xgb_test.ravel()\n",
    "                                    \n",
    "#     })\n",
    "# print('base_pre_test.shape : ', base_pre_test.shape)\n",
    "# base_pre_test.head(5)"
   ]
  },
  {
   "cell_type": "markdown",
   "metadata": {},
   "source": [
    "以下で保存"
   ]
  },
  {
   "cell_type": "code",
   "execution_count": null,
   "metadata": {},
   "outputs": [],
   "source": [
    "base_pre_train_pro.to_csv(\"base_pre_train_pro2.csv\")"
   ]
  },
  {
   "cell_type": "code",
   "execution_count": null,
   "metadata": {},
   "outputs": [],
   "source": [
    "base_pre_train.to_csv(\"base_pre_train_pro2.csv\")"
   ]
  },
  {
   "cell_type": "code",
   "execution_count": null,
   "metadata": {},
   "outputs": [],
   "source": [
    "base_pre_test.to_csv(\"base_pre_test2.csv\")"
   ]
  },
  {
   "cell_type": "code",
   "execution_count": null,
   "metadata": {},
   "outputs": [],
   "source": [
    "base_pre_test_pro.to_csv(\"base_pre_test_pro2.csv\")"
   ]
  },
  {
   "cell_type": "markdown",
   "metadata": {},
   "source": [
    "2回目の学習を行うためのデータの作成"
   ]
  },
  {
   "cell_type": "code",
   "execution_count": 31,
   "metadata": {},
   "outputs": [
    {
     "name": "stdout",
     "output_type": "stream",
     "text": [
      "x_train.shape :  (27126, 8)\n",
      "x_test.shape :  (18083, 8)\n"
     ]
    }
   ],
   "source": [
    "x_train = np.concatenate((  rfc_train_pro,  gbct_train_pro,log_train_pro\n",
    "#                           svc_train_pro\n",
    "                          ,ada_train_pro,ext_train_pro,log_train_pro,lgb_train_pro,xgb_train_pro), axis=1)\n",
    "x_test = np.concatenate((  rfc_test_pro,  gbct_test_pro, log_test_pro\n",
    "#                           svc_test_pro\n",
    "                         ,ada_test_pro,ext_test_pro,log_test_pro, lgb_test_pro,xgb_test_pro\n",
    "                        ), axis=1)\n",
    "print('x_train.shape : ', x_train.shape)\n",
    "print('x_test.shape : ', x_test.shape)"
   ]
  },
  {
   "cell_type": "code",
   "execution_count": null,
   "metadata": {},
   "outputs": [],
   "source": [
    "#こちらは０、1で予測したものを学習させるときのデータ\n",
    "\n",
    "# x_train1 = np.concatenate((  rfc_train,  gbct_train,log_train\n",
    "#                           svc_train,ada_train,ext_trainlog_train, lgb_train,xgb_train\n",
    "#                          ), axis=1)\n",
    "# x_test1 = np.concatenate((  rfc_test,  gbct_test,log_test \n",
    "#                           svc_test,ada_test,ext_test,log_test, lgb_test,xgb_test\n",
    "#                         ), axis=1)\n",
    "# print('x_train.shape : ', x_train1.shape)\n",
    "# print('x_test.shape : ', x_test1.shape)"
   ]
  },
  {
   "cell_type": "markdown",
   "metadata": {},
   "source": [
    "2回目の学習RandomForest"
   ]
  },
  {
   "cell_type": "code",
   "execution_count": 32,
   "metadata": {},
   "outputs": [],
   "source": [
    "rfc_3=RandomForestClassifier(random_state=0, n_estimators=500)\n",
    "rfc_3.fit(x_train, y_train)\n",
    "predictions = rfc_3.predict(x_test)\n",
    "predictions_pro = rfc_3.predict_proba(x_test)"
   ]
  },
  {
   "cell_type": "code",
   "execution_count": null,
   "metadata": {},
   "outputs": [],
   "source": [
    "# rfc_3=RandomForestClassifier(random_state=0, n_estimators=500)\n",
    "# rfc_3.fit(x_train1, y_train)\n",
    "# predictions1 = rfc_3.predict(x_test1)"
   ]
  },
  {
   "cell_type": "markdown",
   "metadata": {},
   "source": [
    "テスト用のみ\n"
   ]
  },
  {
   "cell_type": "code",
   "execution_count": null,
   "metadata": {},
   "outputs": [],
   "source": [
    "rfc_3.score(x_test,y_test)"
   ]
  },
  {
   "cell_type": "code",
   "execution_count": null,
   "metadata": {},
   "outputs": [],
   "source": [
    "rfc_3.score(x_train1,y_train)"
   ]
  },
  {
   "cell_type": "markdown",
   "metadata": {},
   "source": [
    "ロジスティック"
   ]
  },
  {
   "cell_type": "code",
   "execution_count": 33,
   "metadata": {},
   "outputs": [],
   "source": [
    "from sklearn.preprocessing import StandardScaler\n",
    "scaler = StandardScaler()\n",
    "scaler.fit(x_train)\n",
    "X_std = scaler.transform(x_train)\n",
    "x_test_std=scaler.transform(x_test)\n"
   ]
  },
  {
   "cell_type": "code",
   "execution_count": 34,
   "metadata": {},
   "outputs": [
    {
     "data": {
      "text/plain": [
       "LogisticRegression(C=1.0, class_weight=None, dual=False, fit_intercept=True,\n",
       "          intercept_scaling=1, max_iter=100, multi_class='ovr', n_jobs=1,\n",
       "          penalty='l2', random_state=None, solver='liblinear', tol=0.0001,\n",
       "          verbose=0, warm_start=False)"
      ]
     },
     "execution_count": 34,
     "metadata": {},
     "output_type": "execute_result"
    }
   ],
   "source": [
    "from sklearn.linear_model import LogisticRegression\n",
    "lr = LogisticRegression(C=1.0)\n",
    "lr.fit(X_std, y_train)\n"
   ]
  },
  {
   "cell_type": "markdown",
   "metadata": {},
   "source": [
    "テスト用のみ"
   ]
  },
  {
   "cell_type": "code",
   "execution_count": null,
   "metadata": {},
   "outputs": [],
   "source": [
    "# 正答率を出力\n",
    "print('train acc: %.3f' % lr.score(X_std, y_train))\n",
    "print('test acc: %.3f' % lr.score(x_test_std, y_test))\n"
   ]
  },
  {
   "cell_type": "markdown",
   "metadata": {},
   "source": [
    "XGBoost"
   ]
  },
  {
   "cell_type": "code",
   "execution_count": 35,
   "metadata": {},
   "outputs": [],
   "source": [
    "import xgboost as xgb\n",
    "xgb = xgb.XGBClassifier(learning_rate=0.1,max_depth=10)\n",
    "xgb.fit(x_train,y_train)\n",
    "pre_xgb = xgb.predict_proba(x_test)\n"
   ]
  },
  {
   "cell_type": "markdown",
   "metadata": {},
   "source": [
    "テスト用のみ"
   ]
  },
  {
   "cell_type": "code",
   "execution_count": null,
   "metadata": {},
   "outputs": [],
   "source": [
    "# 正答率を出力\n",
    "print('train acc: %.3f' % xgb.score(x_train, y_train))\n",
    "print('test acc: %.3f' % xgb.score(x_test, y_test))\n"
   ]
  },
  {
   "cell_type": "markdown",
   "metadata": {},
   "source": [
    "csvファイルにして保存"
   ]
  },
  {
   "cell_type": "code",
   "execution_count": null,
   "metadata": {},
   "outputs": [],
   "source": [
    "predic_df=pd.DataFrame(predictions_pro)\n",
    "predic_df.to_csv(\"result_rf_new2_pro_log3.csv\")\n",
    "predic_log_pro=lr.predict_proba(x_test_std)\n",
    "predic_log_df=pd.DataFrame(predic_log_pro)\n",
    "pre_xgb=pd.DataFrame(pre_xgb)\n",
    "predic_log_df.to_csv(\"result_log_new2_pro_log3.csv\")\n",
    "pre_xgb.to_csv(\"result_xgb_pro.csv\")"
   ]
  }
 ],
 "metadata": {
  "kernelspec": {
   "display_name": "Python 3",
   "language": "python",
   "name": "python3"
  },
  "language_info": {
   "codemirror_mode": {
    "name": "ipython",
    "version": 3
   },
   "file_extension": ".py",
   "mimetype": "text/x-python",
   "name": "python",
   "nbconvert_exporter": "python",
   "pygments_lexer": "ipython3",
   "version": "3.6.5"
  }
 },
 "nbformat": 4,
 "nbformat_minor": 2
}
